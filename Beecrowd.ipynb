{
  "nbformat": 4,
  "nbformat_minor": 0,
  "metadata": {
    "colab": {
      "provenance": [],
      "authorship_tag": "ABX9TyNUNAWS2hM5eLB9iT6fE588",
      "include_colab_link": true
    },
    "kernelspec": {
      "name": "python3",
      "display_name": "Python 3"
    },
    "language_info": {
      "name": "python"
    }
  },
  "cells": [
    {
      "cell_type": "markdown",
      "metadata": {
        "id": "view-in-github",
        "colab_type": "text"
      },
      "source": [
        "<a href=\"https://colab.research.google.com/github/GabrielaC-Araujo/beecrowd/blob/main/Beecrowd.ipynb\" target=\"_parent\"><img src=\"https://colab.research.google.com/assets/colab-badge.svg\" alt=\"Open In Colab\"/></a>"
      ]
    },
    {
      "cell_type": "code",
      "source": [
        "def calc_valor_peca (cod_peca, num_peca, valor_un_peca):\n",
        "  pagar_peca = num_peca * valor_un_peca\n",
        "  return pagar_peca\n",
        "\n",
        "cod_peca_1, num_peca_1, valor_un_peca_1 = input().split(\" \") # pega 3 valores na mesma linha e atribui a variáveis\n",
        "\n",
        "# Converte o valor para os tipos necessários\n",
        "cod_peca_1 = int(cod_peca_1)\n",
        "num_peca_1 = int(num_peca_1)\n",
        "valor_un_peca_1 = float(valor_un_peca_1)\n",
        "\n",
        "cod_peca_2, num_peca_2, valor_un_peca_2 = input().split(\" \") # pega 3 valores na mesma linha e atribui a variáveis\n",
        "\n",
        "# Converte o valor para os tipos necessários\n",
        "cod_peca_2 = int(cod_peca_2)\n",
        "num_peca_2 = int(num_peca_2)\n",
        "valor_un_peca_2 = float(valor_un_peca_2)\n",
        "\n",
        "pagar_peca_1 = calc_valor_peca(cod_peca_1,num_peca_1,valor_un_peca_1)\n",
        "pagar_peca_2 = calc_valor_peca(cod_peca_2,num_peca_2,valor_un_peca_2)\n",
        "\n",
        "# Calcular total\n",
        "total = pagar_peca_1 + pagar_peca_2\n",
        "\n",
        "print(\"VALOR A PAGAR: R$ {:.2f}\".format(total))"
      ],
      "metadata": {
        "id": "_T41bP8qVwI2"
      },
      "execution_count": null,
      "outputs": []
    },
    {
      "cell_type": "code",
      "source": [
        "pi = 3.14159\n",
        "raio = float(input())\n",
        "\n",
        "volume = (4.0 / 3) * pi * raio ** 3\n",
        "\n",
        "print(\"VOLUME = {:.3f}\".format(volume))"
      ],
      "metadata": {
        "id": "Fhf-l7xtiHYf"
      },
      "execution_count": null,
      "outputs": []
    },
    {
      "cell_type": "code",
      "source": [
        "a, b, c = input().split(\" \")\n",
        "a = float(a)\n",
        "b = float(b)\n",
        "c = float(c)\n",
        "\n",
        "pi = 3.14159\n",
        "\n",
        "#calculo areas\n",
        "triangulo = (1 / 2) * a * c\n",
        "circulo = pi * c ** 2\n",
        "trapezio = (1 / 2) * (a + b) * c\n",
        "quadrado = b * b\n",
        "retangulo = a * b\n",
        "\n",
        "print(\"TRIANGULO: {:.3f}\".format(triangulo))\n",
        "print(\"CIRCULO: {:.3f}\".format(circulo))\n",
        "print(\"TRAPEZIO: {:.3f}\".format(trapezio))\n",
        "print(\"QUADRADO: {:.3f}\".format(quadrado))\n",
        "print(\"RETANGULO: {:.3f}\".format(retangulo))"
      ],
      "metadata": {
        "id": "zdcjwf0Wj_pE"
      },
      "execution_count": null,
      "outputs": []
    },
    {
      "cell_type": "code",
      "source": [
        "a, b, c = input().split(\" \")\n",
        "a = int(a)\n",
        "b = int(b)\n",
        "c = int(c)\n",
        "\n",
        "maior_ab = (a + b + abs(a - b)) / 2\n",
        "maior_ac = (a + c + abs(a - c)) / 2\n",
        "maior_cb = (c + b + abs(c - b)) / 2\n",
        "\n",
        "maior = int(max(maior_ab, maior_ac, maior_cb))\n",
        "print(maior, \"eh o maior\")"
      ],
      "metadata": {
        "id": "LRfRWbUYs-vo"
      },
      "execution_count": null,
      "outputs": []
    },
    {
      "cell_type": "code",
      "source": [
        "X = int(input())\n",
        "Y = float(input())\n",
        "\n",
        "consumo = X / Y\n",
        "\n",
        "print(\"{:.3f}\".format(consumo), \"km/l\")"
      ],
      "metadata": {
        "id": "qCEPv1-yBf7Q"
      },
      "execution_count": null,
      "outputs": []
    },
    {
      "cell_type": "code",
      "source": [
        "x1, y1 = input().split(\" \")\n",
        "x1 = float(x1)\n",
        "y1 = float(y1)\n",
        "\n",
        "x2, y2 = input().split(\" \")\n",
        "x2 = float(x2)\n",
        "y2 = float(y2)\n",
        "\n",
        "distancia = ((x2 - x1) ** 2 + (y2 - y1) ** 2) ** 0.5\n",
        "\n",
        "print(\"{:.4f}\".format(distancia))"
      ],
      "metadata": {
        "id": "-Yey0JFeC3XF"
      },
      "execution_count": null,
      "outputs": []
    },
    {
      "cell_type": "code",
      "source": [
        "distancia = int(input())\n",
        "\n",
        "calculo_tempo = distancia * 2\n",
        "\n",
        "print(calculo_tempo, \"minutos\")"
      ],
      "metadata": {
        "id": "bWMR8ourHOIL"
      },
      "execution_count": null,
      "outputs": []
    },
    {
      "cell_type": "code",
      "source": [
        "tempo_h = int(input())\n",
        "velocidade_m = float(input())\n",
        "litros = 12\n",
        "\n",
        "def calculo_distancia (tempo_h, velocidade_m):\n",
        "  distancia = velocidade_m * tempo_h\n",
        "  return distancia\n",
        "\n",
        "distancia_km = calculo_distancia (tempo_h, velocidade_m)\n",
        "litros_gastos = distancia_km / litros\n",
        "\n",
        "print(\"{:.3f}\".format(litros_gastos))"
      ],
      "metadata": {
        "id": "AwIWcTiHMjox"
      },
      "execution_count": null,
      "outputs": []
    },
    {
      "cell_type": "code",
      "source": [
        "valor = int(input())\n",
        "print(valor)\n",
        "cedulas = [100, 50, 20, 10, 5, 2, 1]\n",
        "\n",
        "for cedula in cedulas:\n",
        "    qtd_cedulas = valor // cedula\n",
        "    print(\"{} nota(s) de R$ {},00\".format(qtd_cedulas, cedula))\n",
        "    valor %= cedula"
      ],
      "metadata": {
        "id": "GNOze5cPVtll"
      },
      "execution_count": null,
      "outputs": []
    },
    {
      "cell_type": "code",
      "source": [
        "def converter(segundos):\n",
        "    hr = segundos // 3600\n",
        "    segundos %= 3600\n",
        "    minutos = segundos // 60\n",
        "    segundos %= 60\n",
        "    return (hr, minutos, segundos)\n",
        "\n",
        "segundos = int(input())\n",
        "horas, minutos, segundos = converter(segundos)\n",
        "\n",
        "print(\"{}:{}:{}\".format(horas, minutos, segundos))"
      ],
      "metadata": {
        "id": "F3As9V2NXu2o"
      },
      "execution_count": null,
      "outputs": []
    },
    {
      "cell_type": "code",
      "source": [
        "def converter(dia):\n",
        "    ano = dia // 365\n",
        "    dia %= 365\n",
        "    mes = dia // 30\n",
        "    dia %= 30\n",
        "    return (ano, mes, dia)\n",
        "\n",
        "dia = int(input())\n",
        "ano, mes, dia = converter(dia)\n",
        "\n",
        "print(\"{} ano(s)\\n{} mes(es)\\n{} dia(s)\".format(ano, mes, dia))"
      ],
      "metadata": {
        "id": "6u_RRryCkApf"
      },
      "execution_count": null,
      "outputs": []
    },
    {
      "cell_type": "code",
      "source": [
        "valor = float(input())\n",
        "print(\"NOTAS:\")\n",
        "\n",
        "cedulas = [100, 50, 20, 10, 5, 2]\n",
        "moedas = [1.00, 0.50, 0.25, 0.10, 0.05, 0.01]\n",
        "\n",
        "for cedula in cedulas:\n",
        "    qtd_cedulas = int(valor // cedula)\n",
        "    print(\"{} nota(s) de R$ {:.2f}\".format(qtd_cedulas, cedula))\n",
        "    valor %= cedula\n",
        "print(\"MOEDAS:\")\n",
        "for moedas in moedas:\n",
        "   qtd_moedas = int(valor // moedas)\n",
        "   print(\"{} moeda(s) de R$ {:.2f}\".format(qtd_moedas, moedas))\n",
        "   valor %= moedas"
      ],
      "metadata": {
        "id": "H1LlD_xNo1Wt"
      },
      "execution_count": null,
      "outputs": []
    },
    {
      "cell_type": "code",
      "source": [
        "T = int(input())\n",
        "if 1 <= T <= 4:\n",
        "  A, B, C, D, E = map(int, input().split())\n",
        "  if 1 <= A <= 4 and 1 <= B <= 4 and 1 <= C <= 4 and 1 <= D <= 4 and 1 <= E <= 4:\n",
        "\n",
        "else:\n"
      ],
      "metadata": {
        "id": "omGEgDbNw_74"
      },
      "execution_count": null,
      "outputs": []
    },
    {
      "cell_type": "code",
      "source": [
        "tipo_cha_real = int(input())\n",
        "respostas = list(map(int, input().split()))\n",
        "\n",
        "# Verifica se os valores estão dentro do intervalo permitido (1 a 4)\n",
        "if 1 <= tipo_cha_real <= 4 and all(1 <= resposta <= 4 for resposta in respostas):\n",
        "    corretas = respostas.count(tipo_cha_real)\n",
        "    print(corretas)\n",
        "else:\n",
        "    print(\"Valores fora do intervalo permitido.\")\n",
        "\n"
      ],
      "metadata": {
        "id": "DslIozxpynf1"
      },
      "execution_count": null,
      "outputs": []
    }
  ]
}